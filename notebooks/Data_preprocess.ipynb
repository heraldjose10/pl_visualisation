{
 "cells": [
  {
   "cell_type": "code",
   "execution_count": 1,
   "metadata": {},
   "outputs": [],
   "source": [
    "import pandas as pd"
   ]
  },
  {
   "cell_type": "code",
   "execution_count": 2,
   "metadata": {},
   "outputs": [],
   "source": [
    "pd.options.mode.chained_assignment = None\n",
    "data_path = '../data/'"
   ]
  },
  {
   "cell_type": "code",
   "execution_count": 25,
   "metadata": {},
   "outputs": [],
   "source": [
    "# load data\n",
    "results = pd.read_csv(data_path + 'epl_results_2022-23.csv')\n",
    "teams = pd.read_csv('./../data/epl_clubs_info_2022-23.csv')"
   ]
  },
  {
   "cell_type": "code",
   "execution_count": 26,
   "metadata": {},
   "outputs": [],
   "source": [
    "team_names = teams['club_name'].to_list()"
   ]
  },
  {
   "attachments": {},
   "cell_type": "markdown",
   "metadata": {},
   "source": [
    "## Create Goal Difference\n",
    "\n",
    "The idea here is to get goal difference of each team after each game. This is to be plotted later. I will be plotting the GD of Pl big six (Manchester United, Liverpool, Arsenal, Chelsea, Manchester City and Tottenham)."
   ]
  },
  {
   "cell_type": "code",
   "execution_count": 4,
   "metadata": {},
   "outputs": [],
   "source": [
    "def calculate_goal_diff(results: pd.DataFrame, team: str):\n",
    "    \"\"\"\n",
    "    This function calculates the goal difference of each matches.\n",
    "\n",
    "    Parameters\n",
    "    ----------\n",
    "    results: pd.DataFrame()\n",
    "    team: str\n",
    "\n",
    "    Returns\n",
    "    -------\n",
    "    gd: pd.DataFrame()\n",
    "    \"\"\"\n",
    "    \n",
    "    # get all matches played by the team\n",
    "    matches = results.loc[(results['AwayTeam'] == team) | (results['HomeTeam'] == team)]\n",
    "    matches['GD'] = 0 # create a new column called GD\n",
    "\n",
    "    matches_played = matches.shape[0]\n",
    "\n",
    "    # # calculate goal difference depending on team is home or away\n",
    "    matches.loc[matches['HomeTeam'] == team, 'GD'] = (matches['FTHG'] - matches['FTAG'])\n",
    "    matches.loc[matches['AwayTeam'] == team, 'GD'] = matches['FTAG'] - matches['FTHG']\n",
    "\n",
    "    # add up the goal differnce after each match\n",
    "    gd = pd.DataFrame(matches['GD'].cumsum())\n",
    "    gd.reset_index(inplace=True)\n",
    "    gd.drop(columns=['index'], inplace=True)\n",
    "    gd.insert(0, 'MatchDay', range(matches_played))\n",
    "\n",
    "    return gd"
   ]
  },
  {
   "cell_type": "code",
   "execution_count": 5,
   "metadata": {},
   "outputs": [],
   "source": [
    "# save the goal difference of PL big six\n",
    "big_six = ['Man United', 'Man City', 'Liverpool', 'Arsenal', 'Tottenham', 'Chelsea']\n",
    "\n",
    "for team in big_six:\n",
    "    gd = calculate_goal_diff(results, team)\n",
    "    gd.to_csv(data_path + team + '_goal_diff.csv', index=False)"
   ]
  },
  {
   "attachments": {},
   "cell_type": "markdown",
   "metadata": {},
   "source": [
    "## Create Yellow and Red cards count for every teams\n",
    "\n",
    "Here I want to get total yellow and red cards count, so that I can plot a bar chart to compare the counts of the big six."
   ]
  },
  {
   "cell_type": "code",
   "execution_count": 23,
   "metadata": {},
   "outputs": [],
   "source": [
    "def calculate_yellow_red(results: pd.DataFrame, team: str):\n",
    "    \"\"\"\n",
    "    This function sums up the count of yelow and red cards of a given team from match results\n",
    "\n",
    "    Parameters\n",
    "    ----------\n",
    "    results: pd.DataFrame()\n",
    "    team: str\n",
    "\n",
    "    Returns\n",
    "    -------\n",
    "    yellow_cards: int\n",
    "    red_cards: int\n",
    "    \"\"\"\n",
    "    # get all matches played by the team\n",
    "    matches = results.loc[(results['AwayTeam'] == team) | (results['HomeTeam'] == team)]\n",
    "\n",
    "    yellow_cards = 0\n",
    "    red_cards = 0\n",
    "\n",
    "    yellow_cards += matches.loc[matches['HomeTeam'] == team]['HY'].sum()\n",
    "    yellow_cards += matches.loc[matches['AwayTeam'] == team]['AY'].sum()\n",
    "\n",
    "    red_cards += matches.loc[matches['HomeTeam'] == team]['HR'].sum()\n",
    "    red_cards += matches.loc[matches['AwayTeam'] == team]['AR'].sum()\n",
    "\n",
    "    return yellow_cards, red_cards"
   ]
  },
  {
   "cell_type": "code",
   "execution_count": 30,
   "metadata": {},
   "outputs": [],
   "source": [
    "data = []\n",
    "\n",
    "for name in team_names:\n",
    "    yellow_cards, red_cards = calculate_yellow_red(results=results, team=name)\n",
    "    data.append({\n",
    "        'team': name,\n",
    "        'yellow_cards': yellow_cards,\n",
    "        'red_cards': red_cards\n",
    "    })\n",
    "\n",
    "# convert data to Pandas dataframe and save as csv\n",
    "y_r = pd.DataFrame(data)\n",
    "y_r.to_csv(data_path + 'yellow_red.csv', index=False)"
   ]
  },
  {
   "attachments": {},
   "cell_type": "markdown",
   "metadata": {},
   "source": [
    "# Home and Away Goals\n",
    "I want to make this a stacked bar chart where the home and away goals can be compared directly."
   ]
  },
  {
   "cell_type": "code",
   "execution_count": 32,
   "metadata": {},
   "outputs": [],
   "source": [
    "def calculate_goals(results: pd.DataFrame, team:str):\n",
    "    \"\"\"\n",
    "    This function calculates both away and home goals of a given team from the given results\n",
    "    \n",
    "    Parameters\n",
    "    ----------\n",
    "    results: pd.DataFrame()\n",
    "    team: str\n",
    "\n",
    "    Returns\n",
    "    -------\n",
    "    away_goals: int\n",
    "    home_goals: int\n",
    "    \"\"\"\n",
    "    # get all matches played by the team\n",
    "    matches = results.loc[(results['AwayTeam'] == team) | (results['HomeTeam'] == team)]\n",
    "\n",
    "    away_goals = 0\n",
    "    home_goals = 0\n",
    "\n",
    "    away_goals += matches.loc[matches['AwayTeam'] == team]['FTAG'].sum()\n",
    "    home_goals += matches.loc[matches['HomeTeam'] == team]['FTHG'].sum()\n",
    "\n",
    "    return away_goals, home_goals\n"
   ]
  },
  {
   "cell_type": "code",
   "execution_count": 33,
   "metadata": {},
   "outputs": [],
   "source": [
    "data = []\n",
    "\n",
    "for name in team_names:\n",
    "    away_goals, home_goals = calculate_goals(results=results, team=name)\n",
    "    data.append({\n",
    "        'team': name,\n",
    "        'away_goals': away_goals,\n",
    "        'home_goals': home_goals\n",
    "    })\n",
    "\n",
    "# convert data to Pandas dataframe and save as csv\n",
    "goals = pd.DataFrame(data)\n",
    "goals.to_csv(data_path + 'goals.csv', index=False)"
   ]
  }
 ],
 "metadata": {
  "kernelspec": {
   "display_name": "venv",
   "language": "python",
   "name": "python3"
  },
  "language_info": {
   "codemirror_mode": {
    "name": "ipython",
    "version": 3
   },
   "file_extension": ".py",
   "mimetype": "text/x-python",
   "name": "python",
   "nbconvert_exporter": "python",
   "pygments_lexer": "ipython3",
   "version": "3.8.6"
  },
  "orig_nbformat": 4
 },
 "nbformat": 4,
 "nbformat_minor": 2
}
