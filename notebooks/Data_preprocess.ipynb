{
 "cells": [
  {
   "cell_type": "code",
   "execution_count": 193,
   "metadata": {},
   "outputs": [],
   "source": [
    "import pandas as pd\n",
    "import numpy as np"
   ]
  },
  {
   "cell_type": "code",
   "execution_count": 194,
   "metadata": {},
   "outputs": [],
   "source": [
    "pd.options.mode.chained_assignment = None\n",
    "data_path = '../data/'"
   ]
  },
  {
   "cell_type": "code",
   "execution_count": 195,
   "metadata": {},
   "outputs": [],
   "source": [
    "# load data\n",
    "results = pd.read_csv(data_path + 'epl_results_2022-23.csv')\n",
    "teams = pd.read_csv('./../data/epl_clubs_info_2022-23.csv')"
   ]
  },
  {
   "cell_type": "code",
   "execution_count": 198,
   "metadata": {},
   "outputs": [],
   "source": [
    "team_names = teams['club_name'].to_list()"
   ]
  },
  {
   "attachments": {},
   "cell_type": "markdown",
   "metadata": {},
   "source": [
    "## Create Goal Difference\n",
    "\n",
    "The idea here is to get goal difference of each team after each game. This is to be plotted later. I will be plotting the GD of Pl big six (Manchester United, Liverpool, Arsenal, Chelsea, Manchester City and Tottenham)."
   ]
  },
  {
   "cell_type": "code",
   "execution_count": 199,
   "metadata": {},
   "outputs": [],
   "source": [
    "def calculate_goal_diff(results: pd.DataFrame, team: str):\n",
    "    \"\"\"\n",
    "    This function calculates the goal difference of each matches.\n",
    "\n",
    "    Parameters\n",
    "    ----------\n",
    "    results: pd.DataFrame()\n",
    "    team: str\n",
    "\n",
    "    Returns\n",
    "    -------\n",
    "    gd: pd.DataFrame()\n",
    "    \"\"\"\n",
    "    \n",
    "    # get all matches played by the team\n",
    "    matches = results.loc[(results['AwayTeam'] == team) | (results['HomeTeam'] == team)]\n",
    "    matches['GD'] = 0 # create a new column called GD\n",
    "\n",
    "    matches_played = matches.shape[0]\n",
    "\n",
    "    # # calculate goal difference depending on team is home or away\n",
    "    matches.loc[matches['HomeTeam'] == team, 'GD'] = (matches['FTHG'] - matches['FTAG'])\n",
    "    matches.loc[matches['AwayTeam'] == team, 'GD'] = matches['FTAG'] - matches['FTHG']\n",
    "\n",
    "    # add up the goal differnce after each match\n",
    "    gd = pd.DataFrame(matches['GD'].cumsum())\n",
    "    gd.reset_index(inplace=True)\n",
    "    gd.drop(columns=['index'], inplace=True)\n",
    "    gd.insert(0, 'MatchDay', range(matches_played))\n",
    "\n",
    "    return gd"
   ]
  },
  {
   "cell_type": "code",
   "execution_count": 200,
   "metadata": {},
   "outputs": [],
   "source": [
    "# save the goal difference of PL big six\n",
    "big_six = ['Man United', 'Man City', 'Liverpool', 'Arsenal', 'Tottenham', 'Chelsea']\n",
    "\n",
    "for team in big_six:\n",
    "    gd = calculate_goal_diff(results, team)\n",
    "    gd.to_csv(data_path + team + '_goal_diff.csv', index=False)"
   ]
  },
  {
   "attachments": {},
   "cell_type": "markdown",
   "metadata": {},
   "source": [
    "## Create Yellow and Red cards count for every teams\n",
    "\n",
    "Here I want to get total yellow and red cards count, so that I can plot a bar chart to compare the counts of the big six."
   ]
  },
  {
   "cell_type": "code",
   "execution_count": 201,
   "metadata": {},
   "outputs": [],
   "source": [
    "def calculate_yellow_red(results: pd.DataFrame, team: str):\n",
    "    \"\"\"\n",
    "    This function sums up the count of yelow and red cards of a given team from match results\n",
    "\n",
    "    Parameters\n",
    "    ----------\n",
    "    results: pd.DataFrame()\n",
    "    team: str\n",
    "\n",
    "    Returns\n",
    "    -------\n",
    "    yellow_cards: int\n",
    "    red_cards: int\n",
    "    \"\"\"\n",
    "    # get all matches played by the team\n",
    "    matches = results.loc[(results['AwayTeam'] == team) | (results['HomeTeam'] == team)]\n",
    "\n",
    "    yellow_cards = 0\n",
    "    red_cards = 0\n",
    "\n",
    "    yellow_cards += matches.loc[matches['HomeTeam'] == team]['HY'].sum()\n",
    "    yellow_cards += matches.loc[matches['AwayTeam'] == team]['AY'].sum()\n",
    "\n",
    "    red_cards += matches.loc[matches['HomeTeam'] == team]['HR'].sum()\n",
    "    red_cards += matches.loc[matches['AwayTeam'] == team]['AR'].sum()\n",
    "\n",
    "    return yellow_cards, red_cards"
   ]
  },
  {
   "cell_type": "code",
   "execution_count": 202,
   "metadata": {},
   "outputs": [],
   "source": [
    "data = []\n",
    "\n",
    "for name in team_names:\n",
    "    yellow_cards, red_cards = calculate_yellow_red(results=results, team=name)\n",
    "    data.append({\n",
    "        'team': name,\n",
    "        'yellow_cards': yellow_cards,\n",
    "        'red_cards': red_cards\n",
    "    })\n",
    "\n",
    "# convert data to Pandas dataframe and save as csv\n",
    "y_r = pd.DataFrame(data)\n",
    "y_r.to_csv(data_path + 'yellow_red.csv', index=False)"
   ]
  },
  {
   "attachments": {},
   "cell_type": "markdown",
   "metadata": {},
   "source": [
    "# Home and Away Goals\n",
    "I want to make this a stacked bar chart where the home and away goals can be compared directly."
   ]
  },
  {
   "cell_type": "code",
   "execution_count": 203,
   "metadata": {},
   "outputs": [],
   "source": [
    "def calculate_goals(results: pd.DataFrame, team:str):\n",
    "    \"\"\"\n",
    "    This function calculates both away and home goals of a given team from the given results\n",
    "    \n",
    "    Parameters\n",
    "    ----------\n",
    "    results: pd.DataFrame()\n",
    "    team: str\n",
    "\n",
    "    Returns\n",
    "    -------\n",
    "    away_goals: int\n",
    "    home_goals: int\n",
    "    \"\"\"\n",
    "    # get all matches played by the team\n",
    "    matches = results.loc[(results['AwayTeam'] == team) | (results['HomeTeam'] == team)]\n",
    "\n",
    "    away_goals = 0\n",
    "    home_goals = 0\n",
    "\n",
    "    away_goals += matches.loc[matches['AwayTeam'] == team]['FTAG'].sum()\n",
    "    home_goals += matches.loc[matches['HomeTeam'] == team]['FTHG'].sum()\n",
    "\n",
    "    return away_goals, home_goals\n"
   ]
  },
  {
   "cell_type": "code",
   "execution_count": 204,
   "metadata": {},
   "outputs": [],
   "source": [
    "data = []\n",
    "\n",
    "for name in team_names:\n",
    "    away_goals, home_goals = calculate_goals(results=results, team=name)\n",
    "    data.append({\n",
    "        'team': name,\n",
    "        'away_goals': away_goals,\n",
    "        'home_goals': home_goals\n",
    "    })\n",
    "\n",
    "# convert data to Pandas dataframe and save as csv\n",
    "goals = pd.DataFrame(data)\n",
    "goals.to_csv(data_path + 'goals.csv', index=False)"
   ]
  },
  {
   "attachments": {},
   "cell_type": "markdown",
   "metadata": {},
   "source": [
    "# Create Team Movement\n",
    "Create a df that shows the movement of every teams in the table after each matchday."
   ]
  },
  {
   "cell_type": "code",
   "execution_count": 205,
   "metadata": {},
   "outputs": [],
   "source": [
    "results['Date'] = pd.to_datetime(results['Date'], format=\"%d/%m/%Y\")"
   ]
  },
  {
   "cell_type": "code",
   "execution_count": 206,
   "metadata": {},
   "outputs": [],
   "source": [
    "team_results = []\n",
    "total_match_days = 28"
   ]
  },
  {
   "cell_type": "code",
   "execution_count": 207,
   "metadata": {},
   "outputs": [],
   "source": [
    "for team in team_names:\n",
    "    matches = results.loc[(results['AwayTeam'] == team) | (results['HomeTeam'] == team)].reset_index()\n",
    "    matches.drop(['index'], inplace=True, axis=1)\n",
    "    team_results.append(matches.head(total_match_days))"
   ]
  },
  {
   "cell_type": "code",
   "execution_count": 208,
   "metadata": {},
   "outputs": [],
   "source": [
    "standings = pd.DataFrame(np.nan, index=range(28), columns=team_names)"
   ]
  },
  {
   "cell_type": "code",
   "execution_count": 209,
   "metadata": {},
   "outputs": [],
   "source": [
    "table = teams.iloc[:, :2]\n",
    "table['GD'] = 0 # create a new column called GD\n",
    "table['points'] = 0 # create a new column called Points\n",
    "table['total_goals'] = 0 # create a new column called Total goals scored\n",
    "table['matches_total'] = 0"
   ]
  },
  {
   "cell_type": "code",
   "execution_count": 210,
   "metadata": {},
   "outputs": [],
   "source": [
    "for i in range(total_match_days):\n",
    "\n",
    "    match_dict = {}\n",
    "    for team in team_names:\n",
    "        match_dict[team] = False\n",
    "\n",
    "    for result in team_results:\n",
    "        match = result.loc[i]\n",
    "\n",
    "        if not match_dict[match['HomeTeam']]:\n",
    "            table.loc[table['club_name'] == match['HomeTeam'], 'matches_total'] += 1\n",
    "            table.loc[table['club_name'] == match['HomeTeam'], 'GD'] += (match['FTHG'] - match['FTAG'])\n",
    "            table.loc[table['club_name'] == match['HomeTeam'], 'total_goals'] += (match['FTHG'])\n",
    "\n",
    "            if match['FTR'] == 'H':\n",
    "                table.loc[table['club_name'] == match['HomeTeam'], 'points'] += 3\n",
    "            else:\n",
    "                table.loc[table['club_name'] == match['HomeTeam'], 'points'] += 1\n",
    "\n",
    "            match_dict[match['HomeTeam']] = True\n",
    "\n",
    "        if not match_dict[match['AwayTeam']]:\n",
    "            table.loc[table['club_name'] == match['AwayTeam'], 'matches_total'] += 1\n",
    "            table.loc[table['club_name'] == match['AwayTeam'], 'GD'] += (match['FTAG'] - match['FTHG'])\n",
    "            table.loc[table['club_name'] == match['AwayTeam'], 'total_goals'] += (match['FTAG'])\n",
    "\n",
    "            if match['FTR'] == 'A':\n",
    "                table.loc[table['club_name'] == match['AwayTeam'], 'points'] += 3\n",
    "            else:\n",
    "                table.loc[table['club_name'] == match['AwayTeam'], 'points'] += 1\n",
    "\n",
    "            match_dict[match['AwayTeam']] = True\n",
    "            \n",
    "    table.sort_values(['points', 'GD', 'total_goals'], ascending=False, inplace=True)\n",
    "    table.reset_index(inplace=True)\n",
    "    table.drop(['index'], axis=1, inplace=True)\n",
    "\n",
    "    for match in table.itertuples():\n",
    "        standings.loc[i, match.club_name] = match.Index + 1\n"
   ]
  },
  {
   "cell_type": "code",
   "execution_count": 211,
   "metadata": {},
   "outputs": [],
   "source": [
    "# save the standings as csv\n",
    "standings.to_csv(data_path + 'standings.csv', index=False)"
   ]
  }
 ],
 "metadata": {
  "kernelspec": {
   "display_name": "venv",
   "language": "python",
   "name": "python3"
  },
  "language_info": {
   "codemirror_mode": {
    "name": "ipython",
    "version": 3
   },
   "file_extension": ".py",
   "mimetype": "text/x-python",
   "name": "python",
   "nbconvert_exporter": "python",
   "pygments_lexer": "ipython3",
   "version": "3.8.6"
  },
  "orig_nbformat": 4
 },
 "nbformat": 4,
 "nbformat_minor": 2
}
