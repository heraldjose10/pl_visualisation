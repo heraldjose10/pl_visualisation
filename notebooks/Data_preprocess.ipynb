{
 "cells": [
  {
   "cell_type": "code",
   "execution_count": 1,
   "metadata": {},
   "outputs": [],
   "source": [
    "import pandas as pd"
   ]
  },
  {
   "cell_type": "code",
   "execution_count": 2,
   "metadata": {},
   "outputs": [],
   "source": [
    "pd.options.mode.chained_assignment = None\n",
    "data_path = '../data/'"
   ]
  },
  {
   "attachments": {},
   "cell_type": "markdown",
   "metadata": {},
   "source": [
    "## Create Goal Difference\n",
    "\n",
    "The idea here is to get goal difference of each team after each game. This is to be plotted later. I will be plotting the GD of Pl big six (Manchester United, Liverpool, Arsenal, Chelsea, Manchester City and Tottenham)."
   ]
  },
  {
   "cell_type": "code",
   "execution_count": 3,
   "metadata": {},
   "outputs": [],
   "source": [
    "# load data\n",
    "results = pd.read_csv(data_path + 'epl_results_2022-23.csv')"
   ]
  },
  {
   "cell_type": "code",
   "execution_count": 4,
   "metadata": {},
   "outputs": [],
   "source": [
    "def calculate_goal_diff(results: pd.DataFrame, team: str):\n",
    "    \"\"\"\n",
    "    This function calculates the goal difference of each matches.\n",
    "\n",
    "    Parameters\n",
    "    ----------\n",
    "    results: pd.DataFrame()\n",
    "    team: str\n",
    "\n",
    "    Returns\n",
    "    -------\n",
    "    gd: pd.DataFrame()\n",
    "    \"\"\"\n",
    "    \n",
    "    # get all matches played by the team\n",
    "    matches = results.loc[(results['AwayTeam'] == team) | (results['HomeTeam'] == team)]\n",
    "    matches['GD'] = 0 # create a new column called GD\n",
    "\n",
    "    matches_played = matches.shape[0]\n",
    "\n",
    "    # # calculate goal difference depending on team is home or away\n",
    "    matches.loc[matches['HomeTeam'] == team, 'GD'] = (matches['FTHG'] - matches['FTAG'])\n",
    "    matches.loc[matches['AwayTeam'] == team, 'GD'] = matches['FTAG'] - matches['FTHG']\n",
    "\n",
    "    # add up the goal differnce after each match\n",
    "    gd = pd.DataFrame(matches['GD'].cumsum())\n",
    "    gd.reset_index(inplace=True)\n",
    "    gd.drop(columns=['index'], inplace=True)\n",
    "    gd.insert(0, 'MatchDay', range(matches_played))\n",
    "\n",
    "    return gd"
   ]
  },
  {
   "cell_type": "code",
   "execution_count": 5,
   "metadata": {},
   "outputs": [],
   "source": [
    "# save the goal difference of PL big six\n",
    "big_six = ['Man United', 'Man City', 'Liverpool', 'Arsenal', 'Tottenham', 'Chelsea']\n",
    "\n",
    "for team in big_six:\n",
    "    gd = calculate_goal_diff(results, team)\n",
    "    gd.to_csv(data_path + team + '_goal_diff.csv', index=False)"
   ]
  }
 ],
 "metadata": {
  "kernelspec": {
   "display_name": "venv",
   "language": "python",
   "name": "python3"
  },
  "language_info": {
   "codemirror_mode": {
    "name": "ipython",
    "version": 3
   },
   "file_extension": ".py",
   "mimetype": "text/x-python",
   "name": "python",
   "nbconvert_exporter": "python",
   "pygments_lexer": "ipython3",
   "version": "3.8.6"
  },
  "orig_nbformat": 4
 },
 "nbformat": 4,
 "nbformat_minor": 2
}
